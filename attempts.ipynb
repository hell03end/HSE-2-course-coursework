{
 "cells": [
  {
   "cell_type": "markdown",
   "metadata": {
    "collapsed": true
   },
   "source": [
    "# Materials\n",
    "* [Bunch of articles](http://www.mitpressjournals.org/doi/pdf/10.1162/neco.1993.5.6.954) - I strongly recomment this resource, cause it hosts most actual (by year of publishing) articles.\n",
    "* [realization on C++](https://github.com/BelBES/ESOINN)\n",
    "* [ESOINN algorithm](http://cs.nju.edu.cn/rinc/SOINN/e-soinn.pdf)\n",
    "* [Detailed article](http://www.haselab.info/soinn-e.html)"
   ]
  },
  {
   "cell_type": "code",
   "execution_count": 4,
   "metadata": {},
   "outputs": [],
   "source": [
    "import numpy as np\n",
    "import matplotlib.pyplot as plt\n",
    "import random\n"
   ]
  },
  {
   "cell_type": "markdown",
   "metadata": {},
   "source": [
    "First, let's determine the abstract class for *neural network* (NN), which implements the base NN structure with voluntary neuron's types."
   ]
  },
  {
   "cell_type": "code",
   "execution_count": 6,
   "metadata": {
    "collapsed": true
   },
   "outputs": [],
   "source": [
    "class ESOINN_Rib:\n",
    "    def __init__(self):\n",
    "        self.rib_exist = 0\n",
    "        self.rib_age = 0"
   ]
  },
  {
   "cell_type": "code",
   "execution_count": 7,
   "metadata": {
    "collapsed": true
   },
   "outputs": [],
   "source": [
    "class ESOINN_Neuron:\n",
    "    def __init__(self, feature_vector=()):\n",
    "        self.feature_vector = feature_vector  \n",
    "        self.accamulate_signals = 0\n",
    "        self.total_points = 0\n",
    "        self.density = 0\n",
    "        self.subclass_id = -1"
   ]
  },
  {
   "cell_type": "code",
   "execution_count": null,
   "metadata": {
    "collapsed": true
   },
   "outputs": [],
   "source": [
    "class ESOINN:\n",
    "    def __init__(self, init_neurons, C1=0.001, C2=1, learning_step=200, max_age=50):\n",
    "        self.C1 = C1\n",
    "        self.C2 = C2\n",
    "        self.learning_step = learning_step\n",
    "        self.max_age\n",
    "        self.signals_amount = 0\n",
    "        \n",
    "        self.neurons = np.array([\n",
    "            ESOINN_Neuron(init_neurons[0]),\n",
    "            ESOINN_Neuron(init_neurons[1])\n",
    "        ], dtype=ESOINN_Neuron)\n",
    "        \n",
    "        self.adjacency_matrix = np.array([[ESOINN_Rib()]*2]*2, dtype=ESOINN_Rib)\n",
    "        \n",
    "        self.winners_indexes = []      "
   ]
  },
  {
   "cell_type": "code",
   "execution_count": 12,
   "metadata": {},
   "outputs": [
    {
     "data": {
      "text/plain": [
       "array([['str', 'str'],\n",
       "       ['str', 'str']], \n",
       "      dtype='<U3')"
      ]
     },
     "execution_count": 12,
     "metadata": {},
     "output_type": "execute_result"
    }
   ],
   "source": []
  }
 ],
 "metadata": {
  "kernelspec": {
   "display_name": "Python 3",
   "language": "python",
   "name": "python3"
  },
  "language_info": {
   "codemirror_mode": {
    "name": "ipython",
    "version": 3
   },
   "file_extension": ".py",
   "mimetype": "text/x-python",
   "name": "python",
   "nbconvert_exporter": "python",
   "pygments_lexer": "ipython3",
   "version": "3.6.0"
  }
 },
 "nbformat": 4,
 "nbformat_minor": 2
}
