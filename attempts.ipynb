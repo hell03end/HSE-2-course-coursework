{
 "cells": [
  {
   "cell_type": "code",
   "execution_count": 1,
   "metadata": {
    "collapsed": true
   },
   "outputs": [],
   "source": [
    "import numpy as np\n",
    "import matplotlib.pyplot as plt\n",
    "%matplotlib inline\n",
    "%config InlineBackend.figure_format = 'svg'\n",
    "plt.style.use('ggplot')\n",
    "plt.rcParams['figure.figsize'] = (12,10)\n",
    "\n",
    "from IPython.core.interactiveshell import InteractiveShell\n",
    "InteractiveShell.ast_node_interactivity = \"all\"\n",
    "\n",
    "from dev import ESOINN\n",
    "from dev.tests import CoreTest\n",
    "from dev.mock import Graph, Node, load_mock, save_mock"
   ]
  },
  {
   "cell_type": "code",
   "execution_count": 2,
   "metadata": {},
   "outputs": [
    {
     "name": "stderr",
     "output_type": "stream",
     "text": [
      "2017-04-22 01:57:45,891 - dev.tests.BasicTest - WARNING - <class 'dev.mock.Graph'> passed instead of NN, so tests won't work\n"
     ]
    }
   ],
   "source": [
    "g = load_mock()\n",
    "test = CoreTest(g)\n",
    "# save_mock(g)"
   ]
  },
  {
   "cell_type": "code",
   "execution_count": 3,
   "metadata": {
    "collapsed": true
   },
   "outputs": [],
   "source": [
    "def find_neighbors_local_maxes(g, node_id):\n",
    "    apexes = set()\n",
    "    visited = set()\n",
    "    queue = [node_id]\n",
    "    for vertex in queue:\n",
    "        is_local_max = True\n",
    "        vertex_density = g.nodes[vertex].density\n",
    "        for neighbor_id in g.neighbors[vertex]:\n",
    "            if g.nodes[neighbor_id].density > vertex_density:\n",
    "                if neighbor_id not in visited:\n",
    "                    queue.append(neighbor_id)\n",
    "                is_local_max = False\n",
    "            visited.add(neighbor_id)\n",
    "        if is_local_max:\n",
    "            apexes.add(vertex)\n",
    "        visited.add(vertex)\n",
    "    if not apexes:\n",
    "        return {node_id}\n",
    "    return apexes"
   ]
  },
  {
   "cell_type": "code",
   "execution_count": 4,
   "metadata": {
    "collapsed": true
   },
   "outputs": [],
   "source": [
    "def max_apex_in_class(g, start_node_id: int):\n",
    "    max_apex_id = start_node_id\n",
    "    visited = {start_node_id}\n",
    "    queue = list(g.neighbors.get(start_node_id, set()) - visited)\n",
    "    for vertex in queue.copy():\n",
    "        if g.nodes[max_apex_id].density < g.nodes[vertex].density:\n",
    "            max_apex_id = vertex\n",
    "        visited.add(vertex)\n",
    "        queue.remove(vertex)\n",
    "        queue.extend([\n",
    "            node for node in g.neighbors[vertex] - visited\n",
    "            if node not in visited\n",
    "        ])\n",
    "    return max_apex_id, visited"
   ]
  },
  {
   "cell_type": "code",
   "execution_count": 5,
   "metadata": {},
   "outputs": [
    {
     "data": {
      "text/plain": [
       "True"
      ]
     },
     "execution_count": 5,
     "metadata": {},
     "output_type": "execute_result"
    }
   ],
   "source": [
    "from dev.mock import NEIGHBOR_LOCAL_MAXES\n",
    "d = {}\n",
    "for i in range(34):\n",
    "    d[i] = test.apply_function(find_neighbors_local_maxes, node_id=i)\n",
    "#     print(f\"{i:<6}: {d[i]}\")\n",
    "d == NEIGHBOR_LOCAL_MAXES"
   ]
  },
  {
   "cell_type": "code",
   "execution_count": 6,
   "metadata": {
    "scrolled": false
   },
   "outputs": [
    {
     "name": "stdout",
     "output_type": "stream",
     "text": [
      "0\n",
      "{0, 6, 7, 24, 26, 28, 29}\n"
     ]
    }
   ],
   "source": [
    "s, l = max_apex_in_class(g, 26)\n",
    "print(s)\n",
    "print(l)"
   ]
  },
  {
   "cell_type": "code",
   "execution_count": 7,
   "metadata": {
    "collapsed": true
   },
   "outputs": [],
   "source": [
    "def create_edges(g, nodes_ids):\n",
    "    for node_id in nodes_ids:\n",
    "        if node_id not in g.neighbors:\n",
    "            g.neighbors[node_id] = set()\n",
    "        for insert_id in nodes_ids:\n",
    "            if insert_id != node_id:\n",
    "                g.neighbors[node_id] |= {insert_id}\n",
    "                nodes_pair = (min(node_id, insert_id), max(node_id, insert_id))\n",
    "                g.edges[nodes_pair] = 0"
   ]
  },
  {
   "cell_type": "code",
   "execution_count": 8,
   "metadata": {
    "collapsed": true
   },
   "outputs": [],
   "source": [
    "def metrics(x, y):\n",
    "    return np.sqrt(\n",
    "                     np.sum(np.square(np.array(x) - np.array(y)))\n",
    "                 )\n",
    "\n",
    "def remove_edges(g, nodes_ids):\n",
    "    for node_id in nodes_ids:\n",
    "        for remove_id in nodes_ids:\n",
    "            if remove_id != node_id and remove_id in g.neighbors[node_id]:\n",
    "                g.neighbors[node_id] -= {remove_id}\n",
    "                nodes_pair = (min(node_id, remove_id), max(node_id, remove_id))\n",
    "                if nodes_pair in g.edges:\n",
    "                    del g.edges[nodes_pair]\n",
    "        if not g.neighbors[node_id]:\n",
    "            del g.neighbors[node_id]\n",
    "\n",
    "def mark_subclasses(g, node_id: int,\n",
    "                    neighbor_min_dists: dict,\n",
    "                    visited: set):\n",
    "    \n",
    "    visited.add(node_id)\n",
    "    queue = [node_id]\n",
    "#   Set for keepping node_ids which need to remove edges\n",
    "    remove_set = set()\n",
    "    \n",
    "#   Mark apex\n",
    "    g.nodes[node_id].subclass_id = node_id\n",
    "    apex_id = g.nodes[node_id].subclass_id\n",
    "\n",
    "\n",
    "    for vertex in queue:\n",
    "        g.nodes[vertex].subclass_id = apex_id\n",
    "        vertex_density = g.nodes[vertex].density\n",
    "        visited.add(vertex)\n",
    "        \n",
    "\n",
    "        for neighbor_id in g.neighbors[vertex].copy():\n",
    "#           Пытаемся найти нейрон-сосед, плотность которого меньше\n",
    "            if g.nodes[neighbor_id].density < vertex_density:\n",
    "#               Если данного нейрона нет в словаре neighbor_min_dists, то высчитываем для него \n",
    "                if neighbor_id not in neighbor_min_dists:\n",
    "                    min_dist = calc_neighbor_min_dist(g,neighbor_id)\n",
    "                    neighbor_min_dists.update({neighbor_id:min_dist})\n",
    "#               Если мы нашли такой нейрон, плотность которого меньше\n",
    "#               Нужно проверить имеет ли он право маркировать этот нейрон\n",
    "                if  metrics(g.nodes[vertex].feature_vector, g.nodes[neighbor_id].feature_vector) == neighbor_min_dists[neighbor_id]:\n",
    "                    # Если мы ранее не посещяли узел, то значит совсем что-то новое\n",
    "                    if neighbor_id not in visited:\n",
    "                        queue.append(neighbor_id)\n",
    "#               Если маркировать должен кто-то другой, значит это overlap area\n",
    "                else:\n",
    "                    remove_set.add(neighbor_id)\n",
    "\n",
    "#   Удаление ребер \n",
    "    for remove_id in remove_set:\n",
    "#       Проверка на то, что к данному узлу из вершины никто НЕ смог пробиться\n",
    "        if g.nodes[remove_id].subclass_id != apex_id:\n",
    "            for neighbor_id in g.neighbors[remove_id].copy():\n",
    "                if g.nodes[neighbor_id].subclass_id == apex_id:\n",
    "                    remove_edges(g, (remove_id, neighbor_id))\n",
    "                    \n",
    "    return neighbor_min_dists, visited\n",
    "\n",
    "\n",
    "def calc_neighbor_min_dist(g, node_id: int) -> float:\n",
    "    min_dist = float('inf')\n",
    "    for neighbor_id in g.neighbors[node_id]:\n",
    "        if g.nodes[neighbor_id].density > g.nodes[node_id].density:\n",
    "            dist = metrics(g.nodes[neighbor_id].feature_vector,\n",
    "                                g.nodes[node_id].feature_vector)\n",
    "            if min_dist > dist:\n",
    "                min_dist = dist\n",
    "\n",
    "    return min_dist\n",
    "\n",
    "# @TODO: subclasses remove connections between subclasses\n",
    "# algorithm 3.1\n",
    "def separate_subclasses(g):\n",
    "    visited_in_mark = set()\n",
    "# key - node_id\n",
    "# value - min dist to neighbor, which density is more\n",
    "    neighbor_min_dists = {}\n",
    "    for node_id in g.nodes:\n",
    "        if node_id not in visited_in_mark:\n",
    "            apexes = find_neighbors_local_maxes(g,node_id)\n",
    "            for apex in apexes:\n",
    "                neighbor_min_dists, visited_in_mark = mark_subclasses(g, apex, neighbor_min_dists, visited_in_mark)\n"
   ]
  },
  {
   "cell_type": "code",
   "execution_count": 15,
   "metadata": {
    "scrolled": false
   },
   "outputs": [],
   "source": [
    "separate_subclasses(g)"
   ]
  },
  {
   "cell_type": "code",
   "execution_count": 14,
   "metadata": {
    "scrolled": false
   },
   "outputs": [],
   "source": [
    "for i in g.nodes:\n",
    "    print(f'{i}: {g.nodes[i].subclass_id}')\n",
    "    \n",
    "for i in g.nodes:\n",
    "    print(f'{i}: {g.neighbors.get(i, set())}')\n",
    "\n",
    "g.edges"
   ]
  }
 ],
 "metadata": {
  "kernelspec": {
   "display_name": "Python 3",
   "language": "python",
   "name": "python3"
  },
  "language_info": {
   "codemirror_mode": {
    "name": "ipython",
    "version": 3
   },
   "file_extension": ".py",
   "mimetype": "text/x-python",
   "name": "python",
   "nbconvert_exporter": "python",
   "pygments_lexer": "ipython3",
   "version": "3.6.1"
  }
 },
 "nbformat": 4,
 "nbformat_minor": 2
}
