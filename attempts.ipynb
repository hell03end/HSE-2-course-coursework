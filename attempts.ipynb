{
 "cells": [
  {
   "cell_type": "markdown",
   "metadata": {
    "collapsed": true
   },
   "source": [
    "# Materials\n",
    "* [Bunch of articles](http://www.mitpressjournals.org/doi/pdf/10.1162/neco.1993.5.6.954) - I strongly recomment this resource, cause it hosts most actual (by year of publishing) articles.\n",
    "* [realization on C++](https://github.com/BelBES/ESOINN)\n",
    "* [ESOINN algorithm](http://cs.nju.edu.cn/rinc/SOINN/e-soinn.pdf)\n",
    "* [Detailed article](http://www.haselab.info/soinn-e.html)"
   ]
  },
  {
   "cell_type": "code",
   "execution_count": 197,
   "metadata": {},
   "outputs": [],
   "source": [
    "import numpy as np\n",
    "import matplotlib.pyplot as plt\n",
    "import random\n"
   ]
  },
  {
   "cell_type": "markdown",
   "metadata": {},
   "source": [
    "First, let's determine the abstract class for *neural network* (NN), which implements the base NN structure with voluntary neuron's types."
   ]
  },
  {
   "cell_type": "code",
   "execution_count": 198,
   "metadata": {
    "collapsed": true
   },
   "outputs": [],
   "source": [
    "class ESOINN_Rib:\n",
    "    def __init__(self, exist=0):\n",
    "        self.exist = exist\n",
    "        self.age = 0"
   ]
  },
  {
   "cell_type": "code",
   "execution_count": 199,
   "metadata": {
    "collapsed": true
   },
   "outputs": [],
   "source": [
    "class ESOINN_Neuron:\n",
    "    def __init__(self, feature_vector=()):\n",
    "        self.feature_vector = np.array(feature_vector)  \n",
    "        self.accamulate_signals = 0\n",
    "        self.total_points = 0\n",
    "        self.density = 0\n",
    "        self.subclass_id = -1\n",
    "    \n",
    "    def update_accamulate_signals(self, n=1):\n",
    "        self.accamulate_signals += 1"
   ]
  },
  {
   "cell_type": "code",
   "execution_count": 207,
   "metadata": {},
   "outputs": [],
   "source": [
    "class ESOINN_NN:\n",
    "    def __init__(self, init_neurons, C1=0.001, C2=1, learning_step=200, max_age=50, \n",
    "                 metrics=lambda x,y,axis=1: np.sqrt(np.sum(np.square(np.array(x) - np.array(y)), axis=axis))):\n",
    "        self.C1 = C1\n",
    "        self.C2 = C2\n",
    "        self.learning_step = learning_step\n",
    "        self.max_age = max_age\n",
    "        self.signals_amount = 2\n",
    "        self.metrics = metrics\n",
    "        \n",
    "        self.neurons = np.array([\n",
    "            ESOINN_Neuron(init_neurons[0]),\n",
    "            ESOINN_Neuron(init_neurons[1])\n",
    "        ], dtype=ESOINN_Neuron)\n",
    "        \n",
    "        self.adjacency_matrix = np.array([\n",
    "            np.array([\n",
    "                ESOINN_Rib(),\n",
    "                ESOINN_Rib()\n",
    "            ]), \n",
    "            np.array([\n",
    "                ESOINN_Rib(),\n",
    "                ESOINN_Rib()\n",
    "            ])\n",
    "        ], dtype=ESOINN_Rib)\n",
    "        \n",
    "        \n",
    "    \n",
    "    def fit(self, input_signal):\n",
    "        self.signals_amount += 1\n",
    "        \n",
    "        winners_indexes, distances = self.find_winners(input_signal)\n",
    "        \n",
    "        thresholds = [\n",
    "            self.calc_threshold(input_signal, winners_indexes[0]),\n",
    "            self.calc_threshold(input_signal, winners_indexes[1])\n",
    "        ]\n",
    "        \n",
    "        if distances[0] > thresholds[0] or distances[1] > thresholds[1]:\n",
    "            self.create_neuron(input_signal)\n",
    "            return\n",
    "        \n",
    "        self.update_ribs_age(winners_indexes[0], 1)\n",
    "        \n",
    "        self.build_connection(winners_indexes)\n",
    "        \n",
    "        self.update_density(winners_indexes[0])\n",
    "        \n",
    "        self.neurons[winners_indexes[0]].update_accamulate_signals()\n",
    "        \n",
    "        self.update_feature_vector(winners_indexes[0])\n",
    "        \n",
    "        self.remove_old_ages()\n",
    "        \n",
    "        if self.signals_amount % self.learning_step == 0:\n",
    "            self.update_topology()\n",
    "            \n",
    "    def predict(self, input_signal):\n",
    "        pass\n",
    "    \n",
    "    def update(self):\n",
    "        pass\n",
    "    \n",
    "    def find_winners(self, input_signal):\n",
    "        distances = self.metrics(input_signal, [neuron.feature_vector for neuron in self.neurons])\n",
    "        \n",
    "        first_winner = float('inf')\n",
    "        second_winner = float('inf')\n",
    "        for dist in distances:\n",
    "            if dist <= first_winner:\n",
    "                first_winner, second_winner = dist, first_winner\n",
    "            elif dist < second_winner:\n",
    "                second_winner = dist\n",
    "        \n",
    "        return [list(distances).index(first_winner), list(distances).index(second_winner)], [first_winner, second_winner]\n",
    "                        \n",
    "    \n",
    "    def calc_threshold(self, input_signal, winner_index):\n",
    "        target_row = self.adjacency_matrix[winner_index]\n",
    "        if np.array([rib.exist for rib in target_row]).any():\n",
    "            return np.max([\n",
    "                self.metrics(self.neurons[winner_index].feature_vector, self.neurons[rib_index].feature_vector, axis=0) \n",
    "                for rib_index, rib in enumerate(target_row) \n",
    "                if rib.exist\n",
    "            ])\n",
    "        else:\n",
    "            return self.find_winners(self.neurons[winner_index].feature_vector)[1][1]  # 'cause first winner is always current node\n",
    "    \n",
    "    def create_neuron(self, input_signal):\n",
    "        \n",
    "        self.neurons = np.append(self.neurons, ESOINN_Neuron(input_signal))\n",
    "        \n",
    "#         @fixThisFuckingBullshit\n",
    "        self.adjacency_matrix = np.hstack([\n",
    "            self.adjacency_matrix, \n",
    "            [[ESOINN_Rib()] for i in range(self.adjacency_matrix.shape[0])]\n",
    "        ])\n",
    "        self.adjacency_matrix = np.vstack([\n",
    "            self.adjacency_matrix, \n",
    "            [ESOINN_Rib() for i in range(self.adjacency_matrix.shape[1])]  # use here updated form of matrix\n",
    "        ])\n",
    "    \n",
    "    def update_ribs_age(self, neuron_index, step):\n",
    "        pass\n",
    "    \n",
    "    def build_connection(self, winners_indexes):\n",
    "        pass\n",
    "    \n",
    "    def update_density(self, neuron_index):\n",
    "        pass\n",
    "    \n",
    "    def update_feature_vector(self, neuron_index):\n",
    "        pass\n",
    "    \n",
    "    def remove_old_ages(self):\n",
    "        pass\n",
    "    \n",
    "    def current_state(self):\n",
    "        pass"
   ]
  },
  {
   "cell_type": "code",
   "execution_count": 210,
   "metadata": {},
   "outputs": [
    {
     "name": "stdout",
     "output_type": "stream",
     "text": [
      "[1 2]\n",
      "[5 2]\n",
      "[ 2 19]\n"
     ]
    }
   ],
   "source": [
    "input_signal = np.array([2, 19])\n",
    "nn = ESOINN_NN([[1, 2], [5, 2]])\n",
    "\n",
    "nn.fit(input_signal)\n",
    "\n",
    "for i in range(nn.neurons.shape[0]):\n",
    "    print(nn.neurons[i].feature_vector)\n"
   ]
  },
  {
   "cell_type": "code",
   "execution_count": 195,
   "metadata": {},
   "outputs": [
    {
     "name": "stdout",
     "output_type": "stream",
     "text": [
      "(2, 2)\n"
     ]
    },
    {
     "data": {
      "text/plain": [
       "array([[1, 2],\n",
       "       [3, 4]])"
      ]
     },
     "execution_count": 195,
     "metadata": {},
     "output_type": "execute_result"
    }
   ],
   "source": [
    "a = np.array([\n",
    "    [1,2],\n",
    "    [3,4]\n",
    "])\n",
    "# a = np.hstack([a, [[5], [7]]])\n",
    "# a\n",
    "\n",
    "print(a.shape)\n",
    "a = np.expand_dims(a,)\n",
    "a"
   ]
  }
 ],
 "metadata": {
  "kernelspec": {
   "display_name": "Python 3",
   "language": "python",
   "name": "python3"
  },
  "language_info": {
   "codemirror_mode": {
    "name": "ipython",
    "version": 3
   },
   "file_extension": ".py",
   "mimetype": "text/x-python",
   "name": "python",
   "nbconvert_exporter": "python",
   "pygments_lexer": "ipython3",
   "version": "3.6.0"
  }
 },
 "nbformat": 4,
 "nbformat_minor": 2
}
