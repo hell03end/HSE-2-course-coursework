{
 "cells": [
  {
   "cell_type": "markdown",
   "metadata": {
    "collapsed": true
   },
   "source": [
    "# Materials\n",
    "* [Bunch of articles](http://www.mitpressjournals.org/doi/pdf/10.1162/neco.1993.5.6.954) - I strongly recomment this resource, cause it hosts most actual (by year of publishing) articles.\n",
    "* [realization on C++](https://github.com/BelBES/ESOINN)\n",
    "* [ESOINN algorithm](http://cs.nju.edu.cn/rinc/SOINN/e-soinn.pdf)\n",
    "* [Detailed article](http://www.haselab.info/soinn-e.html)"
   ]
  },
  {
   "cell_type": "code",
   "execution_count": 4,
   "metadata": {},
   "outputs": [],
   "source": [
    "import numpy as np\n",
    "import matplotlib.pyplot as plt\n",
    "import random\n"
   ]
  },
  {
   "cell_type": "markdown",
   "metadata": {},
   "source": [
    "First, let's determine the abstract class for *neural network* (NN), which implements the base NN structure with voluntary neuron's types."
   ]
  },
  {
   "cell_type": "code",
   "execution_count": 6,
   "metadata": {
    "collapsed": true
   },
   "outputs": [],
   "source": [
    "class ESOINN_Rib:\n",
    "    def __init__(self):\n",
    "        self.rib_exist = 0\n",
    "        self.rib_age = 0"
   ]
  },
  {
   "cell_type": "code",
   "execution_count": 36,
   "metadata": {
    "collapsed": true
   },
   "outputs": [],
   "source": [
    "class ESOINN_Neuron:\n",
    "    def __init__(self, feature_vector=()):\n",
    "        self.feature_vector = feature_vector  \n",
    "        self.accamulate_signals = 0\n",
    "        self.total_points = 0\n",
    "        self.density = 0\n",
    "        self.subclass_id = -1\n",
    "        \n",
    "    def update_accamulate_signals(self, n=1):\n",
    "        self.accamulate_signals += 1"
   ]
  },
  {
   "cell_type": "code",
   "execution_count": 37,
   "metadata": {},
   "outputs": [
    {
     "ename": "SyntaxError",
     "evalue": "invalid syntax (<ipython-input-37-95dbebbe8796>, line 27)",
     "output_type": "error",
     "traceback": [
      "\u001b[1;36m  File \u001b[1;32m\"<ipython-input-37-95dbebbe8796>\"\u001b[1;36m, line \u001b[1;32m27\u001b[0m\n\u001b[1;33m    if distance[0] > thresholds[0] || distance[1] > thresholds[1]:\u001b[0m\n\u001b[1;37m                                    ^\u001b[0m\n\u001b[1;31mSyntaxError\u001b[0m\u001b[1;31m:\u001b[0m invalid syntax\n"
     ]
    }
   ],
   "source": [
    "class ESOINN_NN:\n",
    "    def __init__(self, init_neurons, C1=0.001, C2=1, learning_step=200, max_age=50, \n",
    "                 metrics=lambda x,y: np.sqrt(np.sum(np.square(np.array(x) - np.array(y))))):\n",
    "        self.C1 = C1\n",
    "        self.C2 = C2\n",
    "        self.learning_step = learning_step\n",
    "        self.max_age = max_age\n",
    "        self.signals_amount = 2\n",
    "        self.metrics = metrics\n",
    "        \n",
    "        self.neurons = np.array([\n",
    "            ESOINN_Neuron(init_neurons[0]),\n",
    "            ESOINN_Neuron(init_neurons[1])\n",
    "        ], dtype=ESOINN_Neuron)\n",
    "        \n",
    "        self.adjacency_matrix = np.array([[ESOINN_Rib()]*2]*2, dtype=ESOINN_Rib)\n",
    "        \n",
    "        \n",
    "    \n",
    "    def fit(self, input_signal):\n",
    "        self.signals_amount += 1\n",
    "        \n",
    "        winners_indexes, distances = find_winners(input_signal)\n",
    "        \n",
    "        thresholds = self.calc_thresholds(input_signal)\n",
    "        \n",
    "        if distance[0] > thresholds[0] or distance[1] > thresholds[1]:\n",
    "            self.create_neuron(input_signal)\n",
    "            return\n",
    "        \n",
    "        self.update_ribs_age(winners_indexes[0], 1)\n",
    "        \n",
    "        self.build_connection(winners_indexes)\n",
    "        \n",
    "        self.update_density(winners_indexes[0])\n",
    "        \n",
    "        self.neurons[winners_indexes[0]].update_accamulate_signals()\n",
    "        \n",
    "        self.update_feature_vector(winners_indexes[0])\n",
    "        \n",
    "        self.remove_old_ages()\n",
    "        \n",
    "        if self.signals_amount % self.learning_step == 0:\n",
    "            self.update_topology()\n",
    "            \n",
    "    def predict(self, input_signal):\n",
    "        pass\n",
    "    \n",
    "    def update(self):\n",
    "        pass"
   ]
  },
  {
   "cell_type": "code",
   "execution_count": null,
   "metadata": {
    "collapsed": true
   },
   "outputs": [],
   "source": []
  },
  {
   "cell_type": "raw",
   "metadata": {},
   "source": [
    "np.sqrt(np.sum((np.array([1, 2, 3]) - np.array([2, 3, 4]))**2))"
   ]
  }
 ],
 "metadata": {
  "kernelspec": {
   "display_name": "Python 3",
   "language": "python",
   "name": "python3"
  },
  "language_info": {
   "codemirror_mode": {
    "name": "ipython",
    "version": 3
   },
   "file_extension": ".py",
   "mimetype": "text/x-python",
   "name": "python",
   "nbconvert_exporter": "python",
   "pygments_lexer": "ipython3",
   "version": "3.6.0"
  }
 },
 "nbformat": 4,
 "nbformat_minor": 2
}
