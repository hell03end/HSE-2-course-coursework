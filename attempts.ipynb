{
 "cells": [
  {
   "cell_type": "markdown",
   "metadata": {
    "collapsed": true
   },
   "source": [
    "# Materials\n",
    "* [Bunch of articles](http://www.mitpressjournals.org/doi/pdf/10.1162/neco.1993.5.6.954) - I strongly recomment this resource, cause it hosts most actual (by year of publishing) articles.\n",
    "* [realization on C++](https://github.com/BelBES/ESOINN)\n",
    "* [ESOINN algorithm](http://cs.nju.edu.cn/rinc/SOINN/e-soinn.pdf)\n",
    "* [Detailed article](http://www.haselab.info/soinn-e.html)"
   ]
  },
  {
   "cell_type": "code",
   "execution_count": 1,
   "metadata": {
    "collapsed": true
   },
   "outputs": [],
   "source": [
    "import numpy as np\n",
    "import pickle"
   ]
  },
  {
   "cell_type": "code",
   "execution_count": 302,
   "metadata": {},
   "outputs": [],
   "source": [
    "class Node:\n",
    "    def __init__(self, density=0, feature_vector=[0, 0]):\n",
    "        self.density = density\n",
    "        self.subclass_id = -1\n",
    "        self.feature_vector = np.array(feature_vector, dtype=float)\n",
    "    def __repr__(self):\n",
    "        return str(self.density)\n",
    "\n",
    "class Graph:\n",
    "    def __init__(self):\n",
    "        self.nodes = {}\n",
    "        self.neighbors = {}\n",
    "        self.edges = {}\n",
    "    def __repr__(self):\n",
    "        representation = \"{\\n\"\n",
    "        for i, node in enumerate(self.nodes):\n",
    "            representation += f\"{i:<3}:\\t {node}\\n\"\n",
    "        representation += \"}\\n\"\n",
    "        return representation"
   ]
  },
  {
   "cell_type": "code",
   "execution_count": 193,
   "metadata": {
    "collapsed": true
   },
   "outputs": [],
   "source": [
    "# with open(r\"src/suspended_undirected_graph\", \"rb\") as file:\n",
    "#     g = pickle.load(file)\n",
    "# g\n",
    "# with open(r\"src/suspended_undirected_graph\", \"wb\") as file:\n",
    "#     pickle.dump(g, file)\n",
    "\n",
    "with open(r\"src/suspended_undirected_graph_enchanced\", \"rb\") as file:\n",
    "    g = pickle.load(file)\n",
    "# with open(r\"src/suspended_undirected_graph\", \"wb\") as file:\n",
    "#     pickle.dump(g, file)"
   ]
  },
  {
   "cell_type": "code",
   "execution_count": 203,
   "metadata": {
    "collapsed": true
   },
   "outputs": [],
   "source": [
    "def find_neighbors_local_maxes(g, node_id):\n",
    "    apexes = set()\n",
    "    visited = {node_id}\n",
    "    \n",
    "    queue = []\n",
    "    node_density = g.nodes[node_id].density\n",
    "    for neighbor_id in g.neighbors.get(node_id, set()) - visited:\n",
    "        if g.nodes[neighbor_id].density > node_density:\n",
    "            queue.append(neighbor_id)\n",
    "        visited.add(neighbor_id)\n",
    "    \n",
    "    for vertex in queue:\n",
    "        is_local_max = True\n",
    "        vertex_density = g.nodes[vertex].density\n",
    "        for neighbor_id in g.neighbors[vertex]:\n",
    "            if g.nodes[neighbor_id].density > vertex_density:\n",
    "                if neighbor_id not in visited:\n",
    "                    queue.append(neighbor_id)\n",
    "                is_local_max = False\n",
    "            visited.add(neighbor_id)\n",
    "        if is_local_max:\n",
    "            apexes.add(vertex)\n",
    "        visited.add(vertex)\n",
    "    if not apexes:\n",
    "        return {node_id}\n",
    "    return apexes"
   ]
  },
  {
   "cell_type": "code",
   "execution_count": 15,
   "metadata": {
    "collapsed": true
   },
   "outputs": [],
   "source": [
    "def max_apex_in_class(g, start_node_id: int):\n",
    "    max_apex_id = start_node_id\n",
    "    visited = {start_node_id}\n",
    "    queue = list(g.neighbors.get(start_node_id, set()) - visited)\n",
    "    for vertex in queue.copy():\n",
    "        if g.nodes[max_apex_id].density < g.nodes[vertex].density:\n",
    "            max_apex_id = vertex\n",
    "        visited.add(vertex)\n",
    "        queue.remove(vertex)\n",
    "        queue.extend([\n",
    "            node for node in g.neighbors[vertex] - visited\n",
    "            if node not in visited\n",
    "        ])\n",
    "    return max_apex_id, visited"
   ]
  },
  {
   "cell_type": "code",
   "execution_count": 16,
   "metadata": {},
   "outputs": [
    {
     "name": "stdout",
     "output_type": "stream",
     "text": [
      "1000 loops, best of 3: 339 µs per loop\n"
     ]
    }
   ],
   "source": [
    "%%timeit\n",
    "\n",
    "d = {}\n",
    "for i in range(34):\n",
    "    d[i+1] = find_neighbors_local_maxes(g, i+1)"
   ]
  },
  {
   "cell_type": "code",
   "execution_count": 218,
   "metadata": {},
   "outputs": [
    {
     "name": "stdout",
     "output_type": "stream",
     "text": [
      "True\n"
     ]
    }
   ],
   "source": [
    "d = {}\n",
    "for i in range(34):\n",
    "#     print(f'for vertex {i+1}')\n",
    "    d[i+1] = find_neighbors_local_maxes(g, i+1)\n",
    "#     print(f\"{i+1:<6}: {find_neighbors_local_maxes(g, i+1)}\")\n",
    "print(d == check)"
   ]
  },
  {
   "cell_type": "code",
   "execution_count": 216,
   "metadata": {},
   "outputs": [],
   "source": [
    "check = {1     : {1},\n",
    "2     : {2},\n",
    "3     : {3},\n",
    "4     : {4},\n",
    "5     : {5},\n",
    "6     : {6},\n",
    "7     : {7},\n",
    "8     : {8},\n",
    "9     : {9},\n",
    "10    : {10},\n",
    "11    : {3, 4, 5},\n",
    "12    : {1, 2, 5, 6},\n",
    "13    : {1, 2, 5, 6},\n",
    "14    : {1, 2, 5, 6},\n",
    "15    : {1, 5, 6},\n",
    "16    : {1, 2, 5, 6},\n",
    "17    : {1, 6},\n",
    "18    : {6},\n",
    "19    : {6},\n",
    "20    : {6},\n",
    "21    : {6},\n",
    "22    : {6},\n",
    "23    : {6, 7},\n",
    "24    : {7},\n",
    "25    : {7},\n",
    "26    : {1, 2, 5, 6, 7, 8, 9},\n",
    "27    : {1, 2, 6, 7, 8, 9},\n",
    "28    : {1, 2, 6, 8, 9},\n",
    "29    : {8, 9},\n",
    "30    : {8, 9, 2, 6},\n",
    "31    : {2, 6, 8, 9, 10},\n",
    "32    : {9, 10},\n",
    "33    : {9, 10, 2},\n",
    "34    : {2}}"
   ]
  },
  {
   "cell_type": "code",
   "execution_count": 21,
   "metadata": {
    "scrolled": true
   },
   "outputs": [
    {
     "name": "stdout",
     "output_type": "stream",
     "text": [
      "1\n",
      "{1, 7, 8, 13, 25, 26, 29, 30}\n"
     ]
    }
   ],
   "source": [
    "s, l = max_apex_in_class(g, 26)\n",
    "print(s)\n",
    "print(l)"
   ]
  },
  {
   "cell_type": "code",
   "execution_count": 172,
   "metadata": {
    "collapsed": true
   },
   "outputs": [],
   "source": [
    "def create_edges(g, nodes_ids):\n",
    "    for node_id in nodes_ids:\n",
    "        if node_id not in g.neighbors:\n",
    "            g.neighbors[node_id] = set()\n",
    "        for insert_id in nodes_ids:\n",
    "            if insert_id != node_id:\n",
    "                g.neighbors[node_id] |= {insert_id}\n",
    "                nodes_pair = (min(node_id, insert_id), max(node_id, insert_id))\n",
    "                g.edges[nodes_pair] = 0"
   ]
  },
  {
   "cell_type": "code",
   "execution_count": 174,
   "metadata": {
    "collapsed": true
   },
   "outputs": [
    {
     "data": {
      "text/plain": [
       "{(1, 16): 0,\n",
       " (1, 17): 0,\n",
       " (1, 26): 0,\n",
       " (1, 27): 0,\n",
       " (1, 28): 0,\n",
       " (2, 12): 0,\n",
       " (2, 13): 0,\n",
       " (2, 30): 0,\n",
       " (2, 31): 0,\n",
       " (2, 34): 0,\n",
       " (3, 11): 0,\n",
       " (4, 11): 0,\n",
       " (5, 11): 0,\n",
       " (5, 12): 0,\n",
       " (5, 13): 0,\n",
       " (5, 14): 0,\n",
       " (5, 15): 0,\n",
       " (6, 13): 0,\n",
       " (6, 14): 0,\n",
       " (6, 15): 0,\n",
       " (6, 18): 0,\n",
       " (6, 30): 0,\n",
       " (7, 23): 0,\n",
       " (7, 24): 0,\n",
       " (7, 25): 0,\n",
       " (7, 26): 0,\n",
       " (7, 27): 0,\n",
       " (8, 26): 0,\n",
       " (8, 27): 0,\n",
       " (8, 28): 0,\n",
       " (8, 29): 0,\n",
       " (8, 30): 0,\n",
       " (8, 31): 0,\n",
       " (9, 29): 0,\n",
       " (9, 30): 0,\n",
       " (9, 31): 0,\n",
       " (9, 32): 0,\n",
       " (10, 31): 0,\n",
       " (10, 32): 0,\n",
       " (12, 13): 0,\n",
       " (12, 14): 0,\n",
       " (12, 15): 0,\n",
       " (13, 14): 0,\n",
       " (13, 16): 0,\n",
       " (13, 17): 0,\n",
       " (13, 26): 0,\n",
       " (14, 15): 0,\n",
       " (14, 16): 0,\n",
       " (14, 17): 0,\n",
       " (15, 16): 0,\n",
       " (15, 17): 0,\n",
       " (17, 18): 0,\n",
       " (18, 19): 0,\n",
       " (19, 20): 0,\n",
       " (19, 21): 0,\n",
       " (20, 21): 0,\n",
       " (21, 22): 0,\n",
       " (21, 23): 0,\n",
       " (22, 23): 0,\n",
       " (23, 24): 0,\n",
       " (24, 25): 0,\n",
       " (25, 26): 0,\n",
       " (25, 27): 0,\n",
       " (26, 29): 0,\n",
       " (26, 30): 0,\n",
       " (27, 29): 0,\n",
       " (27, 30): 0,\n",
       " (28, 29): 0,\n",
       " (28, 30): 0,\n",
       " (29, 31): 0,\n",
       " (30, 31): 0,\n",
       " (32, 33): 0,\n",
       " (33, 34): 0}"
      ]
     },
     "execution_count": 174,
     "metadata": {},
     "output_type": "execute_result"
    }
   ],
   "source": [
    "G = Graph()\n",
    "\n",
    "for i in g.nodes:\n",
    "    G.nodes.update({i:Node(g.nodes[i].density)})\n",
    "    G.neighbors.update({i:g.neighbors[i]})\n",
    "    \n",
    "G.nodes[1].feature_vector = np.array([2.5, 2.5])\n",
    "G.nodes[2].feature_vector = np.array([5.25, 2])\n",
    "G.nodes[3].feature_vector = np.array([6, 1.5])\n",
    "G.nodes[4].feature_vector = np.array([6, 0.5])\n",
    "G.nodes[5].feature_vector = np.array([5.25, 1])\n",
    "G.nodes[6].feature_vector = np.array([2.875, 0.5])\n",
    "G.nodes[7].feature_vector = np.array([1, 3.375])\n",
    "G.nodes[8].feature_vector = np.array([4.5, 3.75])\n",
    "G.nodes[9].feature_vector = np.array([5.75, 4.25])\n",
    "G.nodes[10].feature_vector = np.array([6.75, 3.75])\n",
    "G.nodes[11].feature_vector = np.array([5.5, 1.125])\n",
    "G.nodes[12].feature_vector = np.array([5.25, 1.375])\n",
    "G.nodes[13].feature_vector = np.array([4.25, 1.625])\n",
    "G.nodes[14].feature_vector = np.array([4.25, 1.25])\n",
    "G.nodes[15].feature_vector = np.array([3.5, 0.5])\n",
    "G.nodes[16].feature_vector = np.array([3, 2.25])\n",
    "G.nodes[17].feature_vector = np.array([2.75, 1.75])\n",
    "G.nodes[18].feature_vector = np.array([2, 1.25])\n",
    "G.nodes[19].feature_vector = np.array([1.5, 1])\n",
    "G.nodes[20].feature_vector = np.array([0.75, 1])\n",
    "G.nodes[21].feature_vector = np.array([1, 1.5])\n",
    "G.nodes[22].feature_vector = np.array([1.25, 2.5])\n",
    "G.nodes[23].feature_vector = np.array([1, 2.75])\n",
    "G.nodes[24].feature_vector = np.array([1.75, 3])\n",
    "G.nodes[25].feature_vector = np.array([2, 3.25])\n",
    "G.nodes[26].feature_vector = np.array([3, 4.25])\n",
    "G.nodes[27].feature_vector = np.array([3.25, 3.625])\n",
    "G.nodes[28].feature_vector = np.array([3, 3])\n",
    "G.nodes[29].feature_vector = np.array([4.5, 4.25])\n",
    "G.nodes[30].feature_vector = np.array([4.5, 3.375])\n",
    "G.nodes[31].feature_vector = np.array([5.75, 3.25])\n",
    "G.nodes[32].feature_vector = np.array([6.25, 3.25])\n",
    "G.nodes[33].feature_vector = np.array([6.5, 2.5])\n",
    "G.nodes[34].feature_vector = np.array([6.75, 2])\n",
    "\n",
    "for i in G.nodes:\n",
    "    for j in G.neighbors[i]:\n",
    "        create_edges(G,(i,j))\n",
    "\n",
    "G.edges"
   ]
  },
  {
   "cell_type": "code",
   "execution_count": 434,
   "metadata": {},
   "outputs": [],
   "source": [
    "def metrics(x, y):\n",
    "    return np.sqrt(\n",
    "                     np.sum(np.square(np.array(x) - np.array(y)))\n",
    "                 )\n",
    "\n",
    "def remove_edges(g, nodes_ids):\n",
    "    for node_id in nodes_ids:\n",
    "        for remove_id in nodes_ids:\n",
    "            if remove_id != node_id and remove_id in g.neighbors[node_id]:\n",
    "                g.neighbors[node_id] -= {remove_id}\n",
    "                nodes_pair = (min(node_id, remove_id), max(node_id, remove_id))\n",
    "                if nodes_pair in g.edges:\n",
    "                    del g.edges[nodes_pair]\n",
    "        if not g.neighbors[node_id]:\n",
    "            del g.neighbors[node_id]\n",
    "\n",
    "def mark_subclasses(g, node_id: int,\n",
    "                    overlap_nodes: dict,\n",
    "                    visited: set):\n",
    "    \n",
    "    visited.add(node_id)\n",
    "    queue = [node_id]\n",
    "#   Set for keepping node_ids which need to remove edges\n",
    "    remove_set = set()\n",
    "    \n",
    "#   Mark apex\n",
    "    g.nodes[node_id].subclass_id = node_id\n",
    "    apex_id = g.nodes[node_id].subclass_id\n",
    "\n",
    "\n",
    "    for vertex in queue:\n",
    "        g.nodes[vertex].subclass_id = apex_id\n",
    "        vertex_density = g.nodes[vertex].density\n",
    "        visited.add(vertex)\n",
    "\n",
    "        for neighbor_id in g.neighbors[vertex].copy():\n",
    "            if g.nodes[neighbor_id].density < vertex_density:\n",
    "#               Если мы нашли нейрон с плотностью меньше, чем у родителя\n",
    "#               То нужно понять стоит ли нам его маркировать, либо маркоровать будет кто-то другой\n",
    "                min_dist = calc_neighbor_min_dist(g,neighbor_id)\n",
    "                if  metrics(g.nodes[vertex].feature_vector, g.nodes[neighbor_id].feature_vector) <= min_dist:\n",
    "                    # Если мы ранее не посещяли узел, то значит совсем что-то новое\n",
    "                    if neighbor_id not in visited:\n",
    "                        queue.append(neighbor_id)\n",
    "#               Если маркировать будет кто-то другой, значит это overlap area\n",
    "                else:\n",
    "                    overlap_nodes.update({neighbor_id: min_dist})\n",
    "                    remove_set.add(neighbor_id)\n",
    "\n",
    "#   Удаление ребер \n",
    "    for remove_id in remove_set:\n",
    "#       Проверка на то, что к данному узлу из вершины никто НЕ смог пробиться\n",
    "        if g.nodes[remove_id].subclass_id != apex_id:\n",
    "            for neighbor_id in g.neighbors[remove_id].copy():\n",
    "                if g.nodes[neighbor_id].subclass_id == apex_id:\n",
    "                    remove_edges(g, (remove_id, neighbor_id))\n",
    "                    \n",
    "    return overlap_nodes, visited\n",
    "\n",
    "\n",
    "def calc_neighbor_min_dist(g, node_id: int) -> float:\n",
    "    min_dist = float('inf')\n",
    "    for neighbor_id in g.neighbors[node_id]:\n",
    "        if g.nodes[neighbor_id].density > g.nodes[node_id].density:\n",
    "            dist = metrics(g.nodes[neighbor_id].feature_vector,\n",
    "                                g.nodes[node_id].feature_vector)\n",
    "            if min_dist > dist:\n",
    "                min_dist = dist\n",
    "\n",
    "    return min_dist\n",
    "\n",
    "# @TODO: subclasses remove connections between subclasses\n",
    "# algorithm 3.1\n",
    "def separate_subclasses(g):\n",
    "    visited_in_mark = set()\n",
    "    overlap_nodes = dict()\n",
    "    for node_id in g.nodes:\n",
    "        if node_id not in visited_in_mark:\n",
    "            apexes = find_neighbors_local_maxes(g,node_id)\n",
    "            for apex in apexes:\n",
    "                overlap_nodes, visited_in_mark = mark_subclasses(g, apex,\n",
    "                                         overlap_nodes,\n",
    "                                         visited_in_mark)\n"
   ]
  },
  {
   "cell_type": "code",
   "execution_count": 435,
   "metadata": {
    "scrolled": true
   },
   "outputs": [],
   "source": [
    "with open(r\"src/suspended_undirected_graph_enchanced\", \"rb\") as file:\n",
    "    g = pickle.load(file)\n",
    "\n",
    "separate_subclasses(g)"
   ]
  },
  {
   "cell_type": "code",
   "execution_count": 436,
   "metadata": {
    "scrolled": false
   },
   "outputs": [
    {
     "name": "stdout",
     "output_type": "stream",
     "text": [
      "1: 1\n",
      "2: 2\n",
      "3: 3\n",
      "4: 4\n",
      "5: 5\n",
      "6: 6\n",
      "7: 7\n",
      "8: 8\n",
      "9: 9\n",
      "10: 10\n",
      "11: 5\n",
      "12: 5\n",
      "13: 2\n",
      "14: 2\n",
      "15: 6\n",
      "16: 1\n",
      "17: 1\n",
      "18: 6\n",
      "19: 6\n",
      "20: 6\n",
      "21: 6\n",
      "22: 6\n",
      "23: 6\n",
      "24: 7\n",
      "25: 7\n",
      "26: 7\n",
      "27: 8\n",
      "28: 1\n",
      "29: 8\n",
      "30: 8\n",
      "31: 9\n",
      "32: 10\n",
      "33: 2\n",
      "34: 2\n",
      "1: {16, 17, 28}\n",
      "2: {34, 13}\n",
      "3: set()\n",
      "4: set()\n",
      "5: {11, 12}\n",
      "6: {15, 18}\n",
      "7: {24, 25, 26}\n",
      "8: {27, 29, 30}\n",
      "9: {31}\n",
      "10: {32}\n",
      "11: {5}\n",
      "12: {5}\n",
      "13: {2, 14}\n",
      "14: {13}\n",
      "15: {6}\n",
      "16: {1}\n",
      "17: {1}\n",
      "18: {19, 6}\n",
      "19: {18, 20, 21}\n",
      "20: {19, 21}\n",
      "21: {19, 20, 22, 23}\n",
      "22: {21, 23}\n",
      "23: {21, 22}\n",
      "24: {25, 7}\n",
      "25: {24, 26, 7}\n",
      "26: {7, 25}\n",
      "27: {8, 29, 30}\n",
      "28: {1}\n",
      "29: {8, 27}\n",
      "30: {8, 27}\n",
      "31: {9}\n",
      "32: {10}\n",
      "33: {34}\n",
      "34: {33, 2}\n"
     ]
    },
    {
     "data": {
      "text/plain": [
       "{(1, 16): 0,\n",
       " (1, 17): 0,\n",
       " (1, 28): 0,\n",
       " (2, 13): 0,\n",
       " (2, 34): 0,\n",
       " (5, 11): 0,\n",
       " (5, 12): 0,\n",
       " (6, 15): 0,\n",
       " (6, 18): 0,\n",
       " (7, 24): 0,\n",
       " (7, 25): 0,\n",
       " (7, 26): 0,\n",
       " (8, 27): 0,\n",
       " (8, 29): 0,\n",
       " (8, 30): 0,\n",
       " (9, 31): 0,\n",
       " (10, 32): 0,\n",
       " (13, 14): 0,\n",
       " (18, 19): 0,\n",
       " (19, 20): 0,\n",
       " (19, 21): 0,\n",
       " (20, 21): 0,\n",
       " (21, 22): 0,\n",
       " (21, 23): 0,\n",
       " (22, 23): 0,\n",
       " (24, 25): 0,\n",
       " (25, 26): 0,\n",
       " (27, 29): 0,\n",
       " (27, 30): 0,\n",
       " (33, 34): 0}"
      ]
     },
     "execution_count": 436,
     "metadata": {},
     "output_type": "execute_result"
    }
   ],
   "source": [
    "for i in g.nodes:\n",
    "    print(f'{i}: {g.nodes[i].subclass_id}')\n",
    "    \n",
    "for i in g.nodes:\n",
    "    print(f'{i}: {g.neighbors.get(i, set())}')\n",
    "\n",
    "g.edges"
   ]
  }
 ],
 "metadata": {
  "kernelspec": {
   "display_name": "Python 3",
   "language": "python",
   "name": "python3"
  },
  "language_info": {
   "codemirror_mode": {
    "name": "ipython",
    "version": 3
   },
   "file_extension": ".py",
   "mimetype": "text/x-python",
   "name": "python",
   "nbconvert_exporter": "python",
   "pygments_lexer": "ipython3",
   "version": "3.6.1"
  }
 },
 "nbformat": 4,
 "nbformat_minor": 2
}
