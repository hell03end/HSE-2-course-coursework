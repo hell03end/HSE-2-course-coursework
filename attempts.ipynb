{
 "cells": [
  {
   "cell_type": "markdown",
   "metadata": {
    "collapsed": true
   },
   "source": [
    "# Materials\n",
    "* [Bunch of articles](http://www.mitpressjournals.org/doi/pdf/10.1162/neco.1993.5.6.954) - I strongly recomment this resource, cause it hosts most actual (by year of publishing) articles.\n",
    "* [realization on C++](https://github.com/BelBES/ESOINN)\n",
    "* [ESOINN algorithm](http://cs.nju.edu.cn/rinc/SOINN/e-soinn.pdf)\n",
    "* [Detailed article](http://www.haselab.info/soinn-e.html)"
   ]
  },
  {
   "cell_type": "code",
   "execution_count": 1,
   "metadata": {
    "collapsed": true
   },
   "outputs": [],
   "source": [
    "import numpy as np"
   ]
  },
  {
   "cell_type": "markdown",
   "metadata": {},
   "source": [
    "Define neuron class, which is specific for ESOINN (have specific fields).\n",
    "* feature_vector - weights\n",
    "* accamulate_signals – number of signals\n",
    "* total_points – points $\\neq$ number of signals\n",
    "* density – mean accumulated signals\n",
    "* subclass_id – mark for subclass"
   ]
  },
  {
   "cell_type": "code",
   "execution_count": 12,
   "metadata": {
    "collapsed": true
   },
   "outputs": [],
   "source": [
    "class ESOINN_Neuron:\n",
    "    def __init__(self, feature_vector=()):\n",
    "        self.feature_vector = np.array(feature_vector)  \n",
    "        self.accamulate_signals = 0\n",
    "        self.total_points = 0\n",
    "        self.density = 0\n",
    "        self.subclass_id = -1\n",
    "    \n",
    "    def update_accamulate_signals(self, n=1):\n",
    "        self.accamulate_signals += 1"
   ]
  },
  {
   "cell_type": "markdown",
   "metadata": {},
   "source": [
    "Define edge class, which contains self existance and age. Edges are stored in adjacency matrix.\n",
    "\n",
    "*maybe, it can be done without this class?* — **do this with -1:n instead of age and existance**\n",
    "\n",
    "**use dict of tuples instead of adjacency matrix**"
   ]
  },
  {
   "cell_type": "code",
   "execution_count": 3,
   "metadata": {
    "collapsed": true
   },
   "outputs": [],
   "source": [
    "class ESOINN_Edge:\n",
    "    def __init__(self, exist=0):\n",
    "        self.exist = exist\n",
    "        self.age = 0\n",
    "        \n",
    "    def inc_age(self, step=1):\n",
    "        self.age += step"
   ]
  },
  {
   "cell_type": "markdown",
   "metadata": {},
   "source": [
    "ESOINN Neural Network class.\n",
    "\n",
    "To start lerning use: `fit()` method, for clasterization use `predict()`.\n",
    "\n",
    "Hiperparams:\n",
    "* C1, C2 – coefficents for noise deletion.\n",
    "* learning_step\n",
    "* max_age – for edges."
   ]
  },
  {
   "cell_type": "code",
   "execution_count": 10,
   "metadata": {},
   "outputs": [
    {
     "ename": "SyntaxError",
     "evalue": "invalid syntax (<ipython-input-10-215becba4758>, line 4)",
     "output_type": "error",
     "traceback": [
      "\u001b[0;36m  File \u001b[0;32m\"<ipython-input-10-215becba4758>\"\u001b[0;36m, line \u001b[0;32m4\u001b[0m\n\u001b[0;31m    forget=False):\u001b[0m\n\u001b[0m         ^\u001b[0m\n\u001b[0;31mSyntaxError\u001b[0m\u001b[0;31m:\u001b[0m invalid syntax\n"
     ]
    }
   ],
   "source": [
    "class ESOINN_NN:\n",
    "    def __init__(self, init_neurons, C1=0.001, C2=1, learning_step=200, max_age=50, \n",
    "                 metrics=lambda x,y,axis=1: np.sqrt(np.sum(np.square(np.array(x) - np.array(y)), axis=axis))\n",
    "                forget=False):\n",
    "        self.C1 = C1\n",
    "        self.C2 = C2\n",
    "        self.learning_step = learning_step\n",
    "        self.max_age = max_age\n",
    "        self.signals_amount = 2\n",
    "        self.metrics = metrics\n",
    "        self.forget = forget\n",
    "        \n",
    "        self.neurons = np.array([\n",
    "            ESOINN_Neuron(init_neurons[0]),\n",
    "            ESOINN_Neuron(init_neurons[1])\n",
    "        ], dtype=ESOINN_Neuron)\n",
    "        \n",
    "#         @fixme: use dict of tuples\n",
    "        self.adjacency_matrix = np.array([\n",
    "            np.array([\n",
    "                ESOINN_Edge(),\n",
    "                ESOINN_Edge()\n",
    "            ]), \n",
    "            np.array([\n",
    "                ESOINN_Edge(),\n",
    "                ESOINN_Edge()\n",
    "            ])\n",
    "        ], dtype=ESOINN_Edge)\n",
    "        \n",
    "        \n",
    "    \n",
    "    def fit(self, input_signal):\n",
    "        self.signals_amount += 1\n",
    "        \n",
    "        winners_indexes, distances = self.find_winners(input_signal)\n",
    "        \n",
    "        thresholds = [\n",
    "            self.calc_threshold(input_signal, winners_indexes[0]),\n",
    "            self.calc_threshold(input_signal, winners_indexes[1])\n",
    "        ]\n",
    "        \n",
    "        if distances[0] > thresholds[0] or distances[1] > thresholds[1]:\n",
    "            self.create_neuron(input_signal)\n",
    "            return\n",
    "        \n",
    "        self.update_edges_age(winners_indexes[0], 1)\n",
    "        \n",
    "        self.build_connection(winners_indexes)\n",
    "        \n",
    "        self.update_density(winners_indexes[0])\n",
    "        \n",
    "        self.neurons[winners_indexes[0]].update_accamulate_signals()\n",
    "        \n",
    "        self.update_feature_vector(winners_indexes[0])\n",
    "        \n",
    "        self.remove_old_ages()\n",
    "        \n",
    "        if self.signals_amount % self.learning_step == 0:\n",
    "            self.update_topology()\n",
    "            \n",
    "    def predict(self, input_signal):\n",
    "        pass\n",
    "    \n",
    "    def update(self):\n",
    "        pass\n",
    "    \n",
    "    def find_winners(self, input_signal):\n",
    "        distances = self.metrics(input_signal, [neuron.feature_vector for neuron in self.neurons])\n",
    "        \n",
    "        first_winner = float('inf')\n",
    "        second_winner = float('inf')\n",
    "        for dist in distances:\n",
    "            if dist <= first_winner:\n",
    "                first_winner, second_winner = dist, first_winner\n",
    "            elif dist < second_winner:\n",
    "                second_winner = dist\n",
    "        \n",
    "        return [list(distances).index(first_winner), list(distances).index(second_winner)], [first_winner, second_winner]\n",
    "                        \n",
    "    \n",
    "    def calc_threshold(self, input_signal, winner_index):\n",
    "        target_row = self.adjacency_matrix[winner_index]\n",
    "        if np.array([edge.exist for edge in target_row]).any():\n",
    "            return np.max([\n",
    "                self.metrics(self.neurons[winner_index].feature_vector, self.neurons[edge_index].feature_vector, axis=0) \n",
    "                for edge_index, edge in enumerate(target_row) \n",
    "                if edge.exist\n",
    "            ])\n",
    "        else:\n",
    "            return self.find_winners(self.neurons[winner_index].feature_vector)[1][1]  # 'cause first winner is always current node\n",
    "    \n",
    "    def create_neuron(self, input_signal):\n",
    "        \n",
    "        self.neurons = np.append(self.neurons, ESOINN_Neuron(input_signal))\n",
    "        \n",
    "#         @fixThisFuckingBullshit\n",
    "        self.adjacency_matrix = np.hstack([\n",
    "            self.adjacency_matrix, \n",
    "            [[ESOINN_Edge()] for i in range(self.adjacency_matrix.shape[0])]\n",
    "        ])\n",
    "        self.adjacency_matrix = np.vstack([\n",
    "            self.adjacency_matrix, \n",
    "            [ESOINN_Edge() for i in range(self.adjacency_matrix.shape[1])]  # use here updated form of matrix\n",
    "        ])\n",
    "    \n",
    "    def update_edges_age(self, neuron_index, step=1):\n",
    "        for edge in self.adjacency_matrix[neuron_index]:\n",
    "            if edge.exist:\n",
    "                edge.inc_age(step)\n",
    "    \n",
    "    # algorithm 3.2\n",
    "    def build_connection(self, winners_indexes):\n",
    "        # case 1\n",
    "        for neuron_index in winners_indexes:\n",
    "            if self.neurons[neuron_index].subclass_id == -1:\n",
    "                self.create_edge(winners_indexes)\n",
    "                break\n",
    "#         @fixme\n",
    "        if self.neurons[winners_indexes[0]].subclass_id == -1 and self.neurons[winners_indexes[1]].subclass_id == -1:\n",
    "            self.neurons[winners_indexes[0]].subclass_id = winners_indexes[0]\n",
    "            self.neurons[winners_indexes[1]].subclass_id = winners_indexes[0]\n",
    "            return\n",
    "        elif self.neurons[winners_indexes[0]].subclass_id == -1:\n",
    "            self.neurons[winners_indexes[0]].subclass_id = winners_indexes[1]\n",
    "            return\n",
    "        elif self.neurons[winners_indexes[1]].subclass_id == -1:\n",
    "            self.neurons[winners_indexes[1]].subclass_id = winners_indexes[0]\n",
    "            return\n",
    "        \n",
    "        # case 2\n",
    "        if self.neurons[winners_indexes[0]].subclass_id == self.neurons[winners_indexes[1]].subclass_id:\n",
    "            self.create_neuron(winners_indexes)\n",
    "            return\n",
    "        \n",
    "        # case 3\n",
    "        pass\n",
    "                \n",
    "#     @fixme\n",
    "    def create_edge(self, indexes):\n",
    "        self.adjacency_matrix[indexes[0]][indexes[1]].exist = 1\n",
    "        self.adjacency_matrix[indexes[0]][indexes[1]].age = 0\n",
    "        self.adjacency_matrix[indexes[1]][indexes[0]].exist = 1\n",
    "        self.adjacency_matrix[indexes[1]][indexes[0]].age = 0\n",
    "        \n",
    "    def set_subclass(self, indexes):\n",
    "        pass    \n",
    "    \n",
    "    def update_density(self, neuron_index):\n",
    "        pass\n",
    "    \n",
    "    def update_feature_vector(self, neuron_index):\n",
    "        pass\n",
    "    \n",
    "    def remove_old_ages(self):\n",
    "        pass\n",
    "    \n",
    "    def current_state(self):\n",
    "        return {\n",
    "            'signals_amount': self.signals_amount,\n",
    "            'C1': self.C1,\n",
    "            'C2': self.C2,\n",
    "            'lambda': self.learning_step,\n",
    "            'max_age': self.max_age,\n",
    "            'metrics': self.metrics,  # name?\n",
    "            'neurons': self.neurons.copy(),  # think about it\n",
    "            'adjacency_matrix': [[edge.age if edge.exist else -1 for edge in row] for row in self.adjacency_matrix]\n",
    "        }"
   ]
  },
  {
   "cell_type": "markdown",
   "metadata": {},
   "source": [
    "## tests"
   ]
  },
  {
   "cell_type": "code",
   "execution_count": 8,
   "metadata": {},
   "outputs": [
    {
     "name": "stdout",
     "output_type": "stream",
     "text": [
      "[1 2]\n",
      "[5 2]\n"
     ]
    }
   ],
   "source": [
    "input_signal = np.array([2, 2])\n",
    "nn = ESOINN_NN([[1, 2], [5, 2]])\n",
    "\n",
    "nn.fit(input_signal)\n",
    "\n",
    "for i in range(nn.neurons.shape[0]):\n",
    "    print(nn.neurons[i].feature_vector)\n",
    "\n",
    "# nn.current_state()"
   ]
  }
 ],
 "metadata": {
  "kernelspec": {
   "display_name": "Python 3",
   "language": "python",
   "name": "python3"
  },
  "language_info": {
   "codemirror_mode": {
    "name": "ipython",
    "version": 3
   },
   "file_extension": ".py",
   "mimetype": "text/x-python",
   "name": "python",
   "nbconvert_exporter": "python",
   "pygments_lexer": "ipython3",
   "version": "3.6.1"
  }
 },
 "nbformat": 4,
 "nbformat_minor": 2
}
