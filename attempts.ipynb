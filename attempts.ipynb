{
 "cells": [
  {
   "cell_type": "markdown",
   "metadata": {
    "collapsed": true
   },
   "source": [
    "# Materials\n",
    "* [Bunch of articles](http://www.mitpressjournals.org/doi/pdf/10.1162/neco.1993.5.6.954) - I strongly recomment this resource, cause it hosts most actual (by year of publishing) articles.\n",
    "* [realization on C++](https://github.com/BelBES/ESOINN)\n",
    "* [ESOINN algorithm](http://cs.nju.edu.cn/rinc/SOINN/e-soinn.pdf)\n",
    "* [Detailed article](http://www.haselab.info/soinn-e.html)"
   ]
  },
  {
   "cell_type": "code",
   "execution_count": 1,
   "metadata": {
    "collapsed": true
   },
   "outputs": [],
   "source": [
    "import numpy as np\n",
    "import pickle"
   ]
  },
  {
   "cell_type": "code",
   "execution_count": 2,
   "metadata": {
    "collapsed": true
   },
   "outputs": [],
   "source": [
    "class Node:\n",
    "    def __init__(self, density=0):\n",
    "        self.density = density\n",
    "        self.subclass_id = -1\n",
    "    def __repr__(self):\n",
    "        return str(self.density)\n",
    "\n",
    "class Graph:\n",
    "    def __init__(self):\n",
    "        self.nodes = {}\n",
    "        self.neighbors = {}\n",
    "    def __repr__(self):\n",
    "        representation = \"{\\n\"\n",
    "        for i, node in enumerate(self.nodes):\n",
    "            representation += f\"{i:<3}:\\t {node}\\n\"\n",
    "        representation += \"}\\n\"\n",
    "        return representation"
   ]
  },
  {
   "cell_type": "code",
   "execution_count": 3,
   "metadata": {},
   "outputs": [],
   "source": [
    "# with open(r\"src/suspended_undirected_graph\", \"rb\") as file:\n",
    "#     g = pickle.load(file)\n",
    "# g\n",
    "# with open(r\"src/suspended_undirected_graph\", \"wb\") as file:\n",
    "#     pickle.dump(g, file)\n",
    "\n",
    "with open(r\"src/suspended_undirected_graph\", \"rb\") as file:\n",
    "    g = pickle.load(file)\n",
    "# with open(r\"src/suspended_undirected_graph\", \"wb\") as file:\n",
    "#     pickle.dump(g, file)"
   ]
  },
  {
   "cell_type": "code",
   "execution_count": 16,
   "metadata": {
    "collapsed": true
   },
   "outputs": [],
   "source": [
    "def find_neighbors_local_maxes(g, node_id):\n",
    "    apexes = set()\n",
    "    visited = {node_id}\n",
    "    \n",
    "    queue = []\n",
    "    node_density = g.nodes[node_id].density\n",
    "    for neighbor_id in g.neighbors.get(node_id, set()) - visited:\n",
    "        if g.nodes[neighbor_id].density > node_density:\n",
    "            queue.append(neighbor_id)\n",
    "        visited.add(neighbor_id)\n",
    "    \n",
    "    for vertex in queue:\n",
    "#         print(vertex)\n",
    "        is_local_max = True\n",
    "        vertex_density = g.nodes[vertex].density\n",
    "        for neighbor_id in g.neighbors[vertex]:\n",
    "            if g.nodes[neighbor_id].density > vertex_density:\n",
    "                if neighbor_id not in visited:\n",
    "                    queue.append(neighbor_id)\n",
    "                is_local_max = False\n",
    "            visited.add(neighbor_id)\n",
    "        if is_local_max:\n",
    "            apexes.add(vertex)\n",
    "        visited.add(vertex)\n",
    "    if not apexes:\n",
    "        return {node_id}\n",
    "    return apexes"
   ]
  },
  {
   "cell_type": "code",
   "execution_count": 10,
   "metadata": {},
   "outputs": [
    {
     "name": "stdout",
     "output_type": "stream",
     "text": [
      "1000 loops, best of 3: 320 µs per loop\n"
     ]
    }
   ],
   "source": [
    "%%timeit\n",
    "\n",
    "d = {}\n",
    "for i in range(34):\n",
    "    d[i+1] = find_neighbors_local_maxes(g, i+1)"
   ]
  },
  {
   "cell_type": "code",
   "execution_count": 18,
   "metadata": {},
   "outputs": [
    {
     "name": "stdout",
     "output_type": "stream",
     "text": [
      "True\n"
     ]
    }
   ],
   "source": [
    "d = {}\n",
    "for i in range(34):\n",
    "    d[i+1] = find_neighbors_local_maxes(g, i+1)\n",
    "#     print(f\"{i+1:<6}{find_neighbors_local_maxes(g, i+1)}\")\n",
    "print(d == check)"
   ]
  },
  {
   "cell_type": "code",
   "execution_count": 7,
   "metadata": {
    "collapsed": true
   },
   "outputs": [],
   "source": [
    "check = {1: {1},\n",
    " 2: {2},\n",
    " 3: {3},\n",
    " 4: {4},\n",
    " 5: {5},\n",
    " 6: {6},\n",
    " 7: {7},\n",
    " 8: {8},\n",
    " 9: {9},\n",
    " 10: {10},\n",
    " 11: {3, 4, 5},\n",
    " 12: {1, 2, 5, 6},\n",
    " 13: {1, 2, 5, 6},\n",
    " 14: {1, 2, 5, 6},\n",
    " 15: {1, 5, 6},\n",
    " 16: {1, 2, 5, 6},\n",
    " 17: {1, 6},\n",
    " 18: {6},\n",
    " 19: {6},\n",
    " 20: {6},\n",
    " 21: {6},\n",
    " 22: {6},\n",
    " 23: {6, 7},\n",
    " 24: {7},\n",
    " 25: {7},\n",
    " 26: {1, 2, 5, 6, 7, 8, 9},\n",
    " 27: {1, 2, 6, 7, 8, 9},\n",
    " 28: {1, 2, 6, 8, 9},\n",
    " 29: {8, 9},\n",
    " 30: {2, 6, 8, 9},\n",
    " 31: {2, 6, 8, 9, 10},\n",
    " 32: {9, 10},\n",
    " 33: {2, 9, 10},\n",
    " 34: {2}}"
   ]
  },
  {
   "cell_type": "code",
   "execution_count": null,
   "metadata": {},
   "outputs": [],
   "source": []
  }
 ],
 "metadata": {
  "kernelspec": {
   "display_name": "Python 3",
   "language": "python",
   "name": "python3"
  },
  "language_info": {
   "codemirror_mode": {
    "name": "ipython",
    "version": 3
   },
   "file_extension": ".py",
   "mimetype": "text/x-python",
   "name": "python",
   "nbconvert_exporter": "python",
   "pygments_lexer": "ipython3",
   "version": "3.6.1"
  }
 },
 "nbformat": 4,
 "nbformat_minor": 2
}
