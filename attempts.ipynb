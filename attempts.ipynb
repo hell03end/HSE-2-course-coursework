{
 "cells": [
  {
   "cell_type": "markdown",
   "metadata": {
    "collapsed": true
   },
   "source": [
    "# Materials\n",
    "* [Bunch of articles](http://www.mitpressjournals.org/doi/pdf/10.1162/neco.1993.5.6.954) - I strongly recomment this resource, cause it hosts most actual (by year of publishing) articles.\n",
    "* [realization on C++](https://github.com/BelBES/ESOINN)\n",
    "* [ESOINN algorithm](http://cs.nju.edu.cn/rinc/SOINN/e-soinn.pdf)\n",
    "* [Detailed article](http://www.haselab.info/soinn-e.html)"
   ]
  },
  {
   "cell_type": "code",
   "execution_count": 3,
   "metadata": {
    "collapsed": true
   },
   "outputs": [],
   "source": [
    "import numpy as np"
   ]
  },
  {
   "cell_type": "markdown",
   "metadata": {},
   "source": [
    "\n",
    "### ESOINN node class\n",
    "* feature_vector - weights\n",
    "* accamulate_signals – number of signals\n",
    "* total_points – points $\\neq$ number of signals\n",
    "* density – mean accumulated signals\n",
    "* subclass_id – mark for subclass"
   ]
  },
  {
   "cell_type": "code",
   "execution_count": 4,
   "metadata": {
    "collapsed": true
   },
   "outputs": [],
   "source": [
    "class ESOINN_Node:\n",
    "    def __init__(self, feature_vector=()):\n",
    "        self.feature_vector = np.array(feature_vector)  \n",
    "        self.accamulate_signals = 0\n",
    "        self.total_points = 0\n",
    "        self.density = 0\n",
    "        self.subclass_id = -1\n",
    "    \n",
    "    def update_accamulate_signals(self, n=1):\n",
    "        self.accamulate_signals += 1"
   ]
  },
  {
   "cell_type": "markdown",
   "metadata": {},
   "source": [
    "### ESOINN Neural Network class\n",
    "To start lerning use: `fit()` method, for clasterization use `predict()`.\n",
    "\n",
    "Hiperparams:\n",
    "* C1, C2 – coefficents for noise deletion.\n",
    "* learning_step\n",
    "* max_age – for edges.\n",
    "* forget – specify which N is used in density calculation.\n",
    "* metrics – lambda(x, y, axis)\n",
    "\n",
    "Params:\n",
    "* ids – last given id for nodes."
   ]
  },
  {
   "cell_type": "code",
   "execution_count": 7,
   "metadata": {
    "collapsed": true
   },
   "outputs": [],
   "source": [
    "class ESOINN_NN:\n",
    "    def __init__(self, init_nodes, C1=0.001, C2=1, learning_step=200, max_age=50, \n",
    "                 metrics=lambda x,y,axis=0: np.sqrt(np.sum(np.square(np.array(x) - np.array(y)), axis=axis)),\n",
    "                 forget=False, radius_cut_off=1):\n",
    "        self.C1 = C1\n",
    "        self.C2 = C2\n",
    "        self.learning_step = learning_step\n",
    "        self.max_age = max_age\n",
    "        self.signals_amount = 2\n",
    "        self.metrics = metrics\n",
    "        self.forget = forget\n",
    "        self.unique_id = 2\n",
    "        self.rc = radius_cut_off\n",
    "        \n",
    "        self.nodes = {i: ESOINN_Node(init_nodes[i]) for i in (0, 1)}\n",
    "        self.neighbors = {0:set(),\n",
    "                         1:set()\n",
    "                         }  # keys = id, values = sets of neighbors' ids\n",
    "        self.edges = {tuple():None}  # keys = tuples(2), where t[0] < t[1], value = age/None\n",
    "    \n",
    "    def fit(self, input_signal):\n",
    "        self.signals_amount += 1\n",
    "        \n",
    "        winners_ids, distances = self.find_winners(input_signal)\n",
    "        thresholds = [self.calc_threshold(input_signal, winners_ids[i]) for i in (0, 1)]\n",
    "        if distances[0] > thresholds[0] or distances[1] > thresholds[1]:\n",
    "            self.create_node(input_signal)\n",
    "            return\n",
    "        \n",
    "        self.update_edges_age(winners_ids[0])\n",
    "        self.build_connection(winners_ids)\n",
    "        \n",
    "#         self.update_density(winners_ids[0])\n",
    "        \n",
    "#         self.nodes[winners_ids[0]].update_accamulate_signals()\n",
    "        \n",
    "#         self.update_feature_vector(winners_ids[0])\n",
    "        \n",
    "#         self.remove_old_ages()\n",
    "        \n",
    "#         if self.signals_amount % self.learning_step == 0:\n",
    "#             self.update_topology()\n",
    "    \n",
    "    def find_winners(self, input_signal):\n",
    "        # @fixme: inf coef and separate variables for each winner\n",
    "        first_winner = float('inf')\n",
    "        first_winner_id = -1\n",
    "        second_winner = float('inf')\n",
    "        second_winner_id = -1\n",
    "        for node_id in self.nodes:\n",
    "            dist = self.metrics(input_signal, self.nodes[node_id].feature_vector)\n",
    "            if dist <= first_winner:\n",
    "                first_winner, second_winner = dist, first_winner\n",
    "                second_winner_id = first_winner_id\n",
    "                first_winner_id = node_id\n",
    "            elif dist < second_winner:\n",
    "                second_winner = dist\n",
    "                second_winner_id = node_id\n",
    "        return [first_winner_id, second_winner_id], [first_winner, second_winner]\n",
    "    \n",
    "    def find_neighbors(start_node_id, depth=1):\n",
    "        visited = {start_node_id}\n",
    "        queue = list(self.neighbors.get(start, set()) - visited)\n",
    "        while depth:\n",
    "            depth -= 1\n",
    "            for vertex in queue.copy():  # @fixme: do not use copy!\n",
    "                visited.add(vertex)\n",
    "                queue.extend([node for node in self.neighbors[vertex] - visited if node not in visited])\n",
    "        return visited - {start_node_id}    \n",
    "    \n",
    "    def calc_threshold(self, input_signal, winner_id):\n",
    "        neighbors = self.neighbors.get(winner_id, None)\n",
    "        if neighbors:\n",
    "            return np.max([\n",
    "                self.metrics(self.nodes[winner_id].feature_vector, self.nodes[neighbor_id].feature_vector) \n",
    "                for neighbor_id in find_neighbors(winner_id, depth=self.rc)\n",
    "            ])\n",
    "        else:\n",
    "            return self.find_winners(self.nodes[winner_id].feature_vector)[1][1]  # 'cause first winner is always current node\n",
    "    \n",
    "    def create_node(self, input_signal):  \n",
    "        self.nodes[self.unique_id] = ESOINN_Neuron(input_signal)\n",
    "        self.unique_id += 1  # to provide unique ids for each neuron\n",
    "    \n",
    "    def update_edges_age(self, node_id, step=1):\n",
    "        for neighbor_id in self.neighbors.get(node_id, []):\n",
    "            pair_id = min(node_id, neighbor_id), max(node_id, neighbor_id)\n",
    "            self.edges[pair_id] += 1\n",
    "                \n",
    "    # algorithm 3.2\n",
    "    def build_connection(self, winners_ids):\n",
    "        # case 1-2\n",
    "        if self.nodes[winners_ids[0]].subclass_id == -1 or self.nodes[winners_ids[1]].subclass_id == -1 or self.nodes[winners_ids[0]].subclass_id == self.nodes[winners_ids[1]].subclass_id:\n",
    "            self.create_edge(winners_ids)        \n",
    "        # case 3\n",
    "        pass\n",
    "                \n",
    "# #     @fixme\n",
    "    def create_edge(self, ids):\n",
    "        \n",
    "        # @fixme: быдлокод, но не нашел метода лучше\n",
    "#         Получаю значение по ключю(ids первого) -> получаю set его соседей и туда добавляю(update) ids второго и наоборот \n",
    "        (self.neighbors.get(ids[0])).update({ids[1]})\n",
    "        (self.neighbors.get(ids[1])).update({ids[0]})\n",
    "        \n",
    "        # @fixme: тут я тоже не нашел метода лучше, ну понятно же :D\n",
    "#         Так как у нас в tupple (t1,t2), где t1 < t2, то я нашел минимальный ids и максимальный ids и создал ребро между ними\n",
    "#         обнулив его возраст\n",
    "        self.edges.update({(min(ids), max(ids)): 0})\n",
    "        \n",
    "#     def set_subclass(self, indexes):\n",
    "#         pass    \n",
    "    \n",
    "#     def update_density(self, node_index):\n",
    "#         pass\n",
    "    \n",
    "#     def update_feature_vector(self, node_index):\n",
    "#         pass\n",
    "    \n",
    "#     def remove_old_ages(self):\n",
    "#         pass\n",
    "\n",
    "#     def predict(self, input_signal):\n",
    "#         pass\n",
    "\n",
    "#     def update(self):\n",
    "#         pass\n",
    "    \n",
    "    def current_state(self):\n",
    "        return {\n",
    "            'signals_amount': self.signals_amount,\n",
    "            'C1': self.C1,\n",
    "            'C2': self.C2,\n",
    "            'lambda': self.learning_step,\n",
    "            'forget': self.forget,\n",
    "            'max_age': self.max_age,\n",
    "            'metrics': self.metrics,\n",
    "            'nodes': self.nodes,  # think about it\n",
    "            'edges': self.edges\n",
    "        }"
   ]
  },
  {
   "cell_type": "markdown",
   "metadata": {},
   "source": [
    "## tests"
   ]
  },
  {
   "cell_type": "code",
   "execution_count": 8,
   "metadata": {},
   "outputs": [
    {
     "name": "stdout",
     "output_type": "stream",
     "text": [
      "[1 2]\n",
      "[5 2]\n",
      "neighbor for node 0 = {1}\n",
      "neighbor for node 1 = {0}\n",
      "neighbor for node 2 = None\n",
      "edge between winners (node 0, node 1) = 0\n",
      "edge between winners (None) = None\n"
     ]
    },
    {
     "data": {
      "text/plain": [
       "{'C1': 0.001,\n",
       " 'C2': 1,\n",
       " 'edges': {(): None, (0, 1): 0},\n",
       " 'forget': False,\n",
       " 'lambda': 200,\n",
       " 'max_age': 50,\n",
       " 'metrics': <function __main__.ESOINN_NN.<lambda>>,\n",
       " 'nodes': {0: <__main__.ESOINN_Node at 0x98cb99ebe0>,\n",
       "  1: <__main__.ESOINN_Node at 0x98cb99ec18>},\n",
       " 'signals_amount': 3}"
      ]
     },
     "execution_count": 8,
     "metadata": {},
     "output_type": "execute_result"
    }
   ],
   "source": [
    "input_signal = np.array([2, 2]) #[2,19] чтобы проверить добавление нового нейрона и проверить создание ребра и т.п.\n",
    "nn = ESOINN_NN([[1, 2], [5, 2]])\n",
    "\n",
    "# wins, dists = nn.find_winners(input_signal)\n",
    "\n",
    "# nn.calc_threshold(input_signal, wins[0])\n",
    "\n",
    "nn.fit(input_signal)\n",
    "\n",
    "for i in nn.nodes.keys():\n",
    "    print(nn.nodes.get(i).feature_vector)\n",
    "    \n",
    "print('neighbor for node 0 =',nn.neighbors.get(0))\n",
    "print('neighbor for node 1 =',nn.neighbors.get(1))\n",
    "print('neighbor for node 2 =',nn.neighbors.get(2))\n",
    "\n",
    "print('edge between winners (node 0, node 1) =',nn.edges.get((0,1)))\n",
    "print('edge between winners (None) =',nn.edges.get(()))\n",
    "    \n",
    "nn.current_state()"
   ]
  }
 ],
 "metadata": {
  "kernelspec": {
   "display_name": "Python 3",
   "language": "python",
   "name": "python3"
  },
  "language_info": {
   "codemirror_mode": {
    "name": "ipython",
    "version": 3
   },
   "file_extension": ".py",
   "mimetype": "text/x-python",
   "name": "python",
   "nbconvert_exporter": "python",
   "pygments_lexer": "ipython3",
   "version": "3.6.1"
  }
 },
 "nbformat": 4,
 "nbformat_minor": 2
}
