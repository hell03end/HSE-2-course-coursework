{
 "cells": [
  {
   "cell_type": "markdown",
   "metadata": {},
   "source": [
    "# tests ESOINN"
   ]
  },
  {
   "cell_type": "markdown",
   "metadata": {},
   "source": [
    "### ESOINN node class\n",
    "##### Fields\n",
    "* feature_vector – weights\n",
    "* accamulate_signals – number of signals\n",
    "* total_points – points $\\neq$ number of signals\n",
    "* density – mean accumulated signals\n",
    "* subclass_id – mark for subclass"
   ]
  },
  {
   "cell_type": "markdown",
   "metadata": {},
   "source": [
    "### ESOINN Neural Network class\n",
    "To start lerning use: `fit()` method, for clasterization use `predict()`.\n",
    "\n",
    "##### Params:\n",
    "To create new `EnhancedSelfOrganizingIncrementalNN` object – initialize it with first two nodes (`init_nodes`) randomly.\n",
    "\n",
    "##### Hiperparams:\n",
    "* `C1`, `C2` – coefficents for noise deletion.\n",
    "* `learning_step` – number of iterations before remove old ages and find classes ($\\lambda$ in literature).\n",
    "* `max_age` – for edges.\n",
    "* `forget` – specify which N is used in density calculation.\n",
    "* `metrics` – lambda(x, y, axis)\n",
    "* `radius_cut_off` – degree of neighbors' nodes.\n",
    "* `learning_rate_winner` \n",
    "* `learning_rate_winner_neighbor`\n",
    "\n",
    "##### Fields:\n",
    "* `ids` – last given id for nodes (should be unique)."
   ]
  },
  {
   "cell_type": "code",
   "execution_count": 1,
   "metadata": {
    "collapsed": true
   },
   "outputs": [],
   "source": [
    "import numpy as np\n",
    "from dev import ESOINN"
   ]
  },
  {
   "cell_type": "code",
   "execution_count": 2,
   "metadata": {},
   "outputs": [
    {
     "name": "stdout",
     "output_type": "stream",
     "text": [
      "TEST nodes feature vector and density:\n",
      "node 0 : [ 2.  2.] | density 0.04\n",
      "node 1 : [ 4.97  2.  ] | density 0\n",
      "\n",
      "TEST neighbours for nodes:\n",
      "neighbors for node 0 = {1}\n",
      "neighbors for node 1 = {0}\n",
      "\n",
      "TEST edges between nodes:\n",
      "edge between winners (node 0, node 1) = 0\n",
      "edge between winners (None) = None\n"
     ]
    }
   ],
   "source": [
    "input_signal = np.array([2, 2])  # [2,19] for node&edge creation\n",
    "nn = ESOINN.EnhancedSelfOrganizingIncrementalNN([[1, 2], [5, 2]])\n",
    "\n",
    "nn.fit(input_signal)\n",
    "# test for old edge removal\n",
    "# nn.edges[(0,1)] = 51\n",
    "# nn.remove_old_ages()\n",
    "\n",
    "nn_info = nn.current_state()  # this is more correct\n",
    "\n",
    "print(\"TEST nodes feature vector and density:\")\n",
    "for i in nn_info['nodes'].keys():\n",
    "    print(f\"node {i} : {nn_info['nodes'][i].feature_vector} | density {nn_info['nodes'][i].density}\")\n",
    "\n",
    "print(\"\\nTEST neighbours for nodes:\")\n",
    "for i in range(len(nn_info['neighbors'])):\n",
    "    print(f\"neighbors for node {i} = {nn_info['neighbors'].get(i, None)}\")\n",
    "\n",
    "print(\"\\nTEST edges between nodes:\")\n",
    "print(f\"edge between winners (node 0, node 1) = {nn_info['edges'].get((0,1))}\")\n",
    "print(f\"edge between winners (None) = {nn_info['edges'].get(())}\")"
   ]
  }
 ],
 "metadata": {
  "kernelspec": {
   "display_name": "Python 3",
   "language": "python",
   "name": "python3"
  },
  "language_info": {
   "codemirror_mode": {
    "name": "ipython",
    "version": 3
   },
   "file_extension": ".py",
   "mimetype": "text/x-python",
   "name": "python",
   "nbconvert_exporter": "python",
   "pygments_lexer": "ipython3",
   "version": "3.6.1"
  }
 },
 "nbformat": 4,
 "nbformat_minor": 2
}
